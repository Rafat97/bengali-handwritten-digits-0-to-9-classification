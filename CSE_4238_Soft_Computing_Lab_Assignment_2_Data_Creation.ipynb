{
  "nbformat": 4,
  "nbformat_minor": 0,
  "metadata": {
    "colab": {
      "name": "CSE 4238 - Soft Computing Lab - Assignment 2 - Data Creation.ipynb",
      "provenance": [],
      "collapsed_sections": [
        "52Q-D45xBHcj",
        "yVEH4KHhjoC9",
        "UAgg7nHdBQhD",
        "yWxU3nR7BVP0",
        "5nK4EA7tBeCT",
        "and1qRpqjrrG",
        "K1W3UGlL5h96",
        "I6btXeeG5cLi",
        "D5AWPysr52J6",
        "Qzg5GVjV555R"
      ],
      "authorship_tag": "ABX9TyP6L813CfKssgTpKF3eQyF9",
      "include_colab_link": true
    },
    "kernelspec": {
      "display_name": "Python 3",
      "name": "python3"
    },
    "language_info": {
      "name": "python"
    }
  },
  "cells": [
    {
      "cell_type": "markdown",
      "metadata": {
        "id": "view-in-github",
        "colab_type": "text"
      },
      "source": [
        "<a href=\"https://colab.research.google.com/github/Rafat97/bengali-handwritten-digits-0-to-9-classification/blob/master/CSE_4238_Soft_Computing_Lab_Assignment_2_Data_Creation.ipynb\" target=\"_parent\"><img src=\"https://colab.research.google.com/assets/colab-badge.svg\" alt=\"Open In Colab\"/></a>"
      ]
    },
    {
      "cell_type": "markdown",
      "metadata": {
        "id": "_hUNaM83BEFM"
      },
      "source": [
        "# Notebook Author info\n",
        "<center>\n",
        "\n",
        "| |  |\n",
        "| ----------- | ----------- |\n",
        "| ![Emdadul Haque Rafat](https://rafat97.github.io/static/c3688eb99d1fef50023a121e3abc5fa6/e8044/my-image.jpg)      | `Name:` Emdadul Haque<br /><br /> `Professional Status:` Student of Computer Science and Engineering <br /><br /> `Email:` rafathaque1997@gmail.com <br /><br /> `Website :` https://rafat97.github.io/ <br /><br />`Github:` https://github.com/Rafat97 <br /><br /> `Linkedin:` https://www.linkedin.com/in/rafat-haque-173131139/   |\n",
        "\n",
        "</center>"
      ]
    },
    {
      "cell_type": "markdown",
      "metadata": {
        "id": "52Q-D45xBHcj"
      },
      "source": [
        "# Drive mount code"
      ]
    },
    {
      "cell_type": "code",
      "metadata": {
        "id": "kTW0DfNVBDtt"
      },
      "source": [
        "from google.colab import drive\n",
        "drive.mount('./drive')"
      ],
      "execution_count": null,
      "outputs": []
    },
    {
      "cell_type": "markdown",
      "metadata": {
        "id": "yVEH4KHhjoC9"
      },
      "source": [
        "# Dataset Creation"
      ]
    },
    {
      "cell_type": "markdown",
      "metadata": {
        "id": "UAgg7nHdBQhD"
      },
      "source": [
        "## Import Packages"
      ]
    },
    {
      "cell_type": "code",
      "metadata": {
        "id": "nXSLNONRQYW4"
      },
      "source": [
        "# import some importent library or packages \n",
        "import matplotlib.pyplot as plt\n",
        "import warnings\n",
        "import time,sys\n",
        "import copy\n",
        "\n",
        "import pandas as pd\n",
        "import numpy as np\n",
        "import cv2\n",
        "import os\n",
        "import pathlib\n",
        "import zipfile\n",
        "import torch\n",
        "import torchvision\n",
        "from torchvision import models\n",
        "import torchvision.transforms as transforms\n",
        "from torch.utils.data import Dataset, DataLoader, ConcatDataset\n",
        "import torch.optim as optim\n",
        "import pathlib\n",
        "import shutil\n",
        "from pathlib import Path\n",
        "from collections import Counter\n",
        "!pip install torchsummary\n",
        "from torchsummary import summary\n",
        "\n",
        "!pip install torchviz\n",
        "from torchviz import make_dot, make_dot_from_trace\n",
        "\n",
        "warnings.filterwarnings('ignore')\n",
        "torch.manual_seed(0)"
      ],
      "execution_count": null,
      "outputs": []
    },
    {
      "cell_type": "markdown",
      "metadata": {
        "id": "yWxU3nR7BVP0"
      },
      "source": [
        "## Download given dataset"
      ]
    },
    {
      "cell_type": "code",
      "metadata": {
        "id": "KpcmFapg4GQC"
      },
      "source": [
        "!gdown --id 1txyKhs1Zt5AKswGGK9VI_jE0JNHuQT85"
      ],
      "execution_count": null,
      "outputs": []
    },
    {
      "cell_type": "markdown",
      "metadata": {
        "id": "5nK4EA7tBeCT"
      },
      "source": [
        "## Unzip dataset"
      ]
    },
    {
      "cell_type": "code",
      "metadata": {
        "id": "Gug3bvwK4IpM"
      },
      "source": [
        "!unzip '/content/Dataset A.zip'"
      ],
      "execution_count": null,
      "outputs": []
    },
    {
      "cell_type": "markdown",
      "metadata": {
        "id": "and1qRpqjrrG"
      },
      "source": [
        "## Read `csv` file"
      ]
    },
    {
      "cell_type": "code",
      "metadata": {
        "id": "pXmL0p_TrEfO"
      },
      "source": [
        "!rm -rf '/content/PROCESSED_DATASET-170104028'"
      ],
      "execution_count": null,
      "outputs": []
    },
    {
      "cell_type": "code",
      "metadata": {
        "id": "14wgV0kKi6zP"
      },
      "source": [
        "traning_csv = '/content/training-a.csv'\n",
        "read_df = pd.read_csv(traning_csv)"
      ],
      "execution_count": null,
      "outputs": []
    },
    {
      "cell_type": "code",
      "metadata": {
        "id": "imUxJA6lmdj2"
      },
      "source": [
        "read_df.columns"
      ],
      "execution_count": null,
      "outputs": []
    },
    {
      "cell_type": "code",
      "metadata": {
        "id": "LZiqjtWFykiz"
      },
      "source": [
        "number_of_digit_class = 10\n",
        "for i in range(0,number_of_digit_class):\n",
        "  select_digit = read_df[read_df['digit'] == i]\n",
        "  print(i , select_digit.shape )"
      ],
      "execution_count": null,
      "outputs": []
    },
    {
      "cell_type": "markdown",
      "metadata": {
        "id": "K1W3UGlL5h96"
      },
      "source": [
        "## Dataset processed & store into `digit` based folder"
      ]
    },
    {
      "cell_type": "code",
      "metadata": {
        "id": "vyUwXfEkjQoP"
      },
      "source": [
        "number_of_digit_class = read_df['digit'].nunique()\n",
        "\n",
        "DATASET_ROOT_DIR = './PROCESSED_DATASET_170104028/' \n",
        "path = Path(DATASET_ROOT_DIR)\n",
        "path.mkdir(parents=True, exist_ok=True)\n",
        "DATASET_ROOT_DIR = os.path.abspath(path)\n",
        "\n",
        "for i in range(0,number_of_digit_class):\n",
        "  select_digit = read_df[read_df['digit'] == i]\n",
        "  for index,val in select_digit.iterrows():\n",
        "    file_relative_path_from= f\"./{val['database name']}/{val['filename']}\"\n",
        "    file_relative_dir_to = f\"{DATASET_ROOT_DIR}/{val['digit']}\"\n",
        "    Path(file_relative_dir_to).mkdir(parents=True, exist_ok=True)\n",
        "    shutil.copy(file_relative_path_from, file_relative_dir_to)\n",
        "    print(file_relative_path_from , file_relative_dir_to , \"OK\")"
      ],
      "execution_count": null,
      "outputs": []
    },
    {
      "cell_type": "markdown",
      "metadata": {
        "id": "I6btXeeG5cLi"
      },
      "source": [
        "## Check Image is correct"
      ]
    },
    {
      "cell_type": "code",
      "metadata": {
        "id": "AO3fbVc9xIrv"
      },
      "source": [
        "#@title #<center>All images are correct or not using pytorch `ImageFolder`</center> { display-mode: \"form\" }\n",
        "import torch\n",
        "import torchvision\n",
        "from torchvision import datasets, models, transforms\n",
        "import matplotlib.pyplot as plt\n",
        "import numpy as np\n",
        "\n",
        "train_transforms = transforms.Compose([\n",
        "        # transforms.RandomResizedCrop(256),\n",
        "        # transforms.RandomHorizontalFlip(),\n",
        "        transforms.ToTensor(),\n",
        "      ])\n",
        "\n",
        "img_path = '/content/PROCESSED_DATASET_170104028/'  #@param {type: \"string\"}\n",
        "train_dataset=datasets.ImageFolder(root=img_path,transform=train_transforms)\n",
        "print( train_dataset.class_to_idx )\n",
        "dataloaders = torch.utils.data.DataLoader(train_dataset, batch_size=128, shuffle=False,pin_memory=True)\n",
        "for image,label in dataloaders:\n",
        "\n",
        "  plt.figure(figsize=(20,20))\n",
        "  grid_imge_gen = torchvision.utils.make_grid(image)\n",
        "  plt.imshow(grid_imge_gen.permute(1, 2, 0).cpu())\n",
        "  plt.show()\n",
        "  print(label)\n",
        "  # break"
      ],
      "execution_count": null,
      "outputs": []
    },
    {
      "cell_type": "markdown",
      "metadata": {
        "id": "D5AWPysr52J6"
      },
      "source": [
        "## Create dataset zip"
      ]
    },
    {
      "cell_type": "code",
      "metadata": {
        "id": "ziguq0Fxywtb"
      },
      "source": [
        "ZIP_FILE_NAME = 'PROCESSED_DATASET-170104028.zip'\n",
        "!zip -r $ZIP_FILE_NAME 'PROCESSED_DATASET-170104028/'"
      ],
      "execution_count": null,
      "outputs": []
    },
    {
      "cell_type": "markdown",
      "metadata": {
        "id": "Qzg5GVjV555R"
      },
      "source": [
        "## Copy the zip file into drive or safe place "
      ]
    },
    {
      "cell_type": "code",
      "metadata": {
        "id": "-A801vVA3hF0"
      },
      "source": [
        "!cp '/content/PROCESSED_DATASET-170104028.zip'  '/content/drive/MyDrive/Datasets'"
      ],
      "execution_count": null,
      "outputs": []
    },
    {
      "cell_type": "markdown",
      "metadata": {
        "id": "iE0rsKvTBo87"
      },
      "source": [
        "# <center>Thank You</center>"
      ]
    }
  ]
}