{
  "nbformat": 4,
  "nbformat_minor": 0,
  "metadata": {
    "colab": {
      "name": "CSE 4238 - Soft Computing Lab - Assignment 2 - Data Creation.ipynb",
      "provenance": [],
      "collapsed_sections": [
        "52Q-D45xBHcj",
        "yVEH4KHhjoC9",
        "UAgg7nHdBQhD",
        "yWxU3nR7BVP0",
        "5nK4EA7tBeCT",
        "and1qRpqjrrG",
        "K1W3UGlL5h96",
        "I6btXeeG5cLi",
        "D5AWPysr52J6",
        "Qzg5GVjV555R"
      ],
      "authorship_tag": "ABX9TyP6L813CfKssgTpKF3eQyF9",
      "include_colab_link": true
    },
    "kernelspec": {
      "display_name": "Python 3",
      "name": "python3"
    },
    "language_info": {
      "name": "python"
    }
  },
  "cells": [
    {
      "cell_type": "markdown",
      "metadata": {
        "id": "view-in-github",
        "colab_type": "text"
      },
      "source": [
        "<a href=\"https://colab.research.google.com/github/Rafat97/bengali-handwritten-digits-0-to-9-classification/blob/master/CSE_4238_Soft_Computing_Lab_Assignment_2_Data_Creation.ipynb\" target=\"_parent\"><img src=\"https://colab.research.google.com/assets/colab-badge.svg\" alt=\"Open In Colab\"/></a>"
      ]
    },
    {
      "cell_type": "markdown",
      "metadata": {
        "id": "_hUNaM83BEFM"
      },
      "source": [
        "# Notebook Author info\n",
        "<center>\n",
        "\n",
        "| |  |\n",
        "| ----------- | ----------- |\n",
        "| ![Emdadul Haque Rafat](https://rafat97.github.io/static/c3688eb99d1fef50023a121e3abc5fa6/e8044/my-image.jpg)      | `Name:` Emdadul Haque<br /><br /> `Professional Status:` Student of Computer Science and Engineering <br /><br /> `Email:` rafathaque1997@gmail.com <br /><br /> `Website :` https://rafat97.github.io/ <br /><br />`Github:` https://github.com/Rafat97 <br /><br /> `Linkedin:` https://www.linkedin.com/in/rafat-haque-173131139/   |\n",
        "\n",
        "</center>"
      ]
    },
    {
      "cell_type": "markdown",
      "metadata": {
        "id": "52Q-D45xBHcj"
      },
      "source": [
        "# Drive mount code"
      ]
    },
    {
      "cell_type": "code",
      "metadata": {
        "id": "kTW0DfNVBDtt"
      },
      "source": [
        "from google.colab import drive\n",
        "drive.mount('./drive')"
      ],
      "execution_count": null,
      "outputs": []
    },
    {
      "cell_type": "markdown",
      "metadata": {
        "id": "yVEH4KHhjoC9"
      },
      "source": [
        "# Dataset Creation"
      ]
    },
    {
      "cell_type": "markdown",
      "metadata": {
        "id": "UAgg7nHdBQhD"
      },
      "source": [
        "## Import Packages"
      ]
    },
    {
      "cell_type": "code",
      "metadata": {
        "colab": {
          "base_uri": "https://localhost:8080/"
        },
        "id": "nXSLNONRQYW4",
        "outputId": "0b50a6b6-0ece-4b2e-a012-d3a27708db91"
      },
      "source": [
        "# import some importent library or packages \n",
        "import matplotlib.pyplot as plt\n",
        "import warnings\n",
        "import time,sys\n",
        "import copy\n",
        "\n",
        "import pandas as pd\n",
        "import numpy as np\n",
        "import cv2\n",
        "import os\n",
        "import pathlib\n",
        "import zipfile\n",
        "import torch\n",
        "import torchvision\n",
        "from torchvision import models\n",
        "import torchvision.transforms as transforms\n",
        "from torch.utils.data import Dataset, DataLoader, ConcatDataset\n",
        "import torch.optim as optim\n",
        "import pathlib\n",
        "import shutil\n",
        "from pathlib import Path\n",
        "from collections import Counter\n",
        "!pip install torchsummary\n",
        "from torchsummary import summary\n",
        "\n",
        "!pip install torchviz\n",
        "from torchviz import make_dot, make_dot_from_trace\n",
        "\n",
        "warnings.filterwarnings('ignore')\n",
        "torch.manual_seed(0)"
      ],
      "execution_count": null,
      "outputs": [
        {
          "name": "stdout",
          "output_type": "stream",
          "text": [
            "Requirement already satisfied: torchsummary in /usr/local/lib/python3.7/dist-packages (1.5.1)\n",
            "Collecting torchviz\n",
            "  Downloading torchviz-0.0.2.tar.gz (4.9 kB)\n",
            "Requirement already satisfied: torch in /usr/local/lib/python3.7/dist-packages (from torchviz) (1.9.0+cu102)\n",
            "Requirement already satisfied: graphviz in /usr/local/lib/python3.7/dist-packages (from torchviz) (0.10.1)\n",
            "Requirement already satisfied: typing-extensions in /usr/local/lib/python3.7/dist-packages (from torch->torchviz) (3.7.4.3)\n",
            "Building wheels for collected packages: torchviz\n",
            "  Building wheel for torchviz (setup.py) ... \u001b[?25l\u001b[?25hdone\n",
            "  Created wheel for torchviz: filename=torchviz-0.0.2-py3-none-any.whl size=4151 sha256=d64048a4eeed0904d9757923e87f4eefdc567eea2b3b50e4994d111d4078598b\n",
            "  Stored in directory: /root/.cache/pip/wheels/04/38/f5/dc4f85c3909051823df49901e72015d2d750bd26b086480ec2\n",
            "Successfully built torchviz\n",
            "Installing collected packages: torchviz\n",
            "Successfully installed torchviz-0.0.2\n"
          ]
        },
        {
          "data": {
            "text/plain": [
              "<torch._C.Generator at 0x7fe1ed25be50>"
            ]
          },
          "execution_count": 1,
          "metadata": {},
          "output_type": "execute_result"
        }
      ]
    },
    {
      "cell_type": "markdown",
      "metadata": {
        "id": "yWxU3nR7BVP0"
      },
      "source": [
        "## Download given dataset"
      ]
    },
    {
      "cell_type": "code",
      "metadata": {
        "colab": {
          "base_uri": "https://localhost:8080/"
        },
        "id": "KpcmFapg4GQC",
        "outputId": "44d55399-1413-4740-d026-14b21a562fb0"
      },
      "source": [
        "!gdown --id 1txyKhs1Zt5AKswGGK9VI_jE0JNHuQT85"
      ],
      "execution_count": null,
      "outputs": [
        {
          "name": "stdout",
          "output_type": "stream",
          "text": [
            "Downloading...\n",
            "From: https://drive.google.com/uc?id=1txyKhs1Zt5AKswGGK9VI_jE0JNHuQT85\n",
            "To: /content/Dataset A.zip\n",
            "815MB [00:06, 124MB/s]\n"
          ]
        }
      ]
    },
    {
      "cell_type": "markdown",
      "metadata": {
        "id": "5nK4EA7tBeCT"
      },
      "source": [
        "## Unzip dataset"
      ]
    },
    {
      "cell_type": "code",
      "metadata": {
        "id": "Gug3bvwK4IpM"
      },
      "source": [
        "!unzip '/content/Dataset A.zip'"
      ],
      "execution_count": null,
      "outputs": []
    },
    {
      "cell_type": "markdown",
      "metadata": {
        "id": "and1qRpqjrrG"
      },
      "source": [
        "## Read `csv` file"
      ]
    },
    {
      "cell_type": "code",
      "metadata": {
        "id": "pXmL0p_TrEfO"
      },
      "source": [
        "!rm -rf '/content/PROCESSED_DATASET-170104028'"
      ],
      "execution_count": null,
      "outputs": []
    },
    {
      "cell_type": "code",
      "metadata": {
        "id": "14wgV0kKi6zP"
      },
      "source": [
        "traning_csv = '/content/training-a.csv'\n",
        "read_df = pd.read_csv(traning_csv)"
      ],
      "execution_count": null,
      "outputs": []
    },
    {
      "cell_type": "code",
      "metadata": {
        "colab": {
          "base_uri": "https://localhost:8080/"
        },
        "id": "imUxJA6lmdj2",
        "outputId": "de8a8279-96a3-4051-bbaf-de8451f58eb7"
      },
      "source": [
        "read_df.columns"
      ],
      "execution_count": null,
      "outputs": [
        {
          "data": {
            "text/plain": [
              "Index(['filename', 'original filename', 'scanid', 'digit',\n",
              "       'database name original', 'contributing team', 'database name'],\n",
              "      dtype='object')"
            ]
          },
          "execution_count": 6,
          "metadata": {},
          "output_type": "execute_result"
        }
      ]
    },
    {
      "cell_type": "code",
      "metadata": {
        "colab": {
          "base_uri": "https://localhost:8080/"
        },
        "id": "LZiqjtWFykiz",
        "outputId": "87c395ae-a920-44ed-fb13-21271d6d6913"
      },
      "source": [
        "number_of_digit_class = 10\n",
        "for i in range(0,number_of_digit_class):\n",
        "  select_digit = read_df[read_df['digit'] == i]\n",
        "  print(i , select_digit.shape )"
      ],
      "execution_count": null,
      "outputs": [
        {
          "name": "stdout",
          "output_type": "stream",
          "text": [
            "0 (1975, 7)\n",
            "1 (1963, 7)\n",
            "2 (1984, 7)\n",
            "3 (1976, 7)\n",
            "4 (1982, 7)\n",
            "5 (1965, 7)\n",
            "6 (1983, 7)\n",
            "7 (1960, 7)\n",
            "8 (1950, 7)\n",
            "9 (1964, 7)\n"
          ]
        }
      ]
    },
    {
      "cell_type": "markdown",
      "metadata": {
        "id": "K1W3UGlL5h96"
      },
      "source": [
        "## Dataset processed & store into `digit` based folder"
      ]
    },
    {
      "cell_type": "code",
      "metadata": {
        "id": "vyUwXfEkjQoP"
      },
      "source": [
        "number_of_digit_class = read_df['digit'].nunique()\n",
        "\n",
        "DATASET_ROOT_DIR = './PROCESSED_DATASET_170104028/' \n",
        "path = Path(DATASET_ROOT_DIR)\n",
        "path.mkdir(parents=True, exist_ok=True)\n",
        "DATASET_ROOT_DIR = os.path.abspath(path)\n",
        "\n",
        "for i in range(0,number_of_digit_class):\n",
        "  select_digit = read_df[read_df['digit'] == i]\n",
        "  for index,val in select_digit.iterrows():\n",
        "    file_relative_path_from= f\"./{val['database name']}/{val['filename']}\"\n",
        "    file_relative_dir_to = f\"{DATASET_ROOT_DIR}/{val['digit']}\"\n",
        "    Path(file_relative_dir_to).mkdir(parents=True, exist_ok=True)\n",
        "    shutil.copy(file_relative_path_from, file_relative_dir_to)\n",
        "    print(file_relative_path_from , file_relative_dir_to , \"OK\")"
      ],
      "execution_count": null,
      "outputs": []
    },
    {
      "cell_type": "markdown",
      "metadata": {
        "id": "I6btXeeG5cLi"
      },
      "source": [
        "## Check Image is correct"
      ]
    },
    {
      "cell_type": "code",
      "metadata": {
        "id": "AO3fbVc9xIrv"
      },
      "source": [
        "#@title #<center>All images are correct or not using pytorch `ImageFolder`</center> { display-mode: \"form\" }\n",
        "import torch\n",
        "import torchvision\n",
        "from torchvision import datasets, models, transforms\n",
        "import matplotlib.pyplot as plt\n",
        "import numpy as np\n",
        "\n",
        "train_transforms = transforms.Compose([\n",
        "        # transforms.RandomResizedCrop(256),\n",
        "        # transforms.RandomHorizontalFlip(),\n",
        "        transforms.ToTensor(),\n",
        "      ])\n",
        "\n",
        "img_path = '/content/PROCESSED_DATASET_170104028/'  #@param {type: \"string\"}\n",
        "train_dataset=datasets.ImageFolder(root=img_path,transform=train_transforms)\n",
        "print( train_dataset.class_to_idx )\n",
        "dataloaders = torch.utils.data.DataLoader(train_dataset, batch_size=128, shuffle=False,pin_memory=True)\n",
        "for image,label in dataloaders:\n",
        "\n",
        "  plt.figure(figsize=(20,20))\n",
        "  grid_imge_gen = torchvision.utils.make_grid(image)\n",
        "  plt.imshow(grid_imge_gen.permute(1, 2, 0).cpu())\n",
        "  plt.show()\n",
        "  print(label)\n",
        "  # break"
      ],
      "execution_count": null,
      "outputs": []
    },
    {
      "cell_type": "markdown",
      "metadata": {
        "id": "D5AWPysr52J6"
      },
      "source": [
        "## Create dataset zip"
      ]
    },
    {
      "cell_type": "code",
      "metadata": {
        "colab": {
          "background_save": true
        },
        "id": "ziguq0Fxywtb",
        "outputId": "08076e6f-e940-4cb1-d48a-97468d332922"
      },
      "source": [
        "ZIP_FILE_NAME = 'PROCESSED_DATASET-170104028.zip'\n",
        "!zip -r $ZIP_FILE_NAME 'PROCESSED_DATASET-170104028/'"
      ],
      "execution_count": null,
      "outputs": [
        {
          "name": "stdout",
          "output_type": "stream",
          "text": [
            "\tzip warning: name not matched: PROCESSED_DATASET-170104028/\n",
            "\n",
            "zip error: Nothing to do! (try: zip -r PROCESSED_DATASET-170104028.zip . -i PROCESSED_DATASET-170104028/)\n"
          ]
        }
      ]
    },
    {
      "cell_type": "markdown",
      "metadata": {
        "id": "Qzg5GVjV555R"
      },
      "source": [
        "## Copy the zip file into drive or safe place "
      ]
    },
    {
      "cell_type": "code",
      "metadata": {
        "colab": {
          "background_save": true
        },
        "id": "-A801vVA3hF0",
        "outputId": "89da57f9-e214-470f-8993-222345e895b7"
      },
      "source": [
        "!cp '/content/PROCESSED_DATASET-170104028.zip'  '/content/drive/MyDrive/Datasets'"
      ],
      "execution_count": null,
      "outputs": [
        {
          "name": "stdout",
          "output_type": "stream",
          "text": [
            "cp: cannot stat '/content/PROCESSED_DATASET-170104028.zip': No such file or directory\n"
          ]
        }
      ]
    },
    {
      "cell_type": "markdown",
      "metadata": {
        "id": "iE0rsKvTBo87"
      },
      "source": [
        "# <center>Thank You</center>"
      ]
    }
  ]
}